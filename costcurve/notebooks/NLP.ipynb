{
 "cells": [
  {
   "cell_type": "code",
   "execution_count": 5,
   "id": "c314b7be-2350-40a3-a183-11b0ce838668",
   "metadata": {
    "scrolled": true
   },
   "outputs": [],
   "source": [
    "#!pip install openai\n"
   ]
  },
  {
   "cell_type": "code",
   "execution_count": 62,
   "id": "9fd5d96e-e3d6-4d4e-b59e-bec2197533a9",
   "metadata": {},
   "outputs": [],
   "source": [
    "from openai import OpenAI\n",
    "import requests\n",
    "from ast import literal_eval"
   ]
  },
  {
   "cell_type": "code",
   "execution_count": 3,
   "id": "3604f103-b86f-494f-8cb2-d468edfb470d",
   "metadata": {},
   "outputs": [],
   "source": [
    "def get_api_key():\n",
    "    with open(\"openai_key.txt\", \"r\") as f:\n",
    "        key = f.read()\n",
    "    return key"
   ]
  },
  {
   "cell_type": "code",
   "execution_count": 37,
   "id": "1a507bd3-b09a-4cd9-b4b5-f3441a305604",
   "metadata": {},
   "outputs": [],
   "source": [
    "client = OpenAI(api_key=get_api_key())"
   ]
  },
  {
   "cell_type": "code",
   "execution_count": 39,
   "id": "78532e2b-14d2-4197-ba18-5f573901a1ff",
   "metadata": {},
   "outputs": [
    {
     "data": {
      "text/plain": [
       "URL('https://api.openai.com/v1/')"
      ]
     },
     "execution_count": 39,
     "metadata": {},
     "output_type": "execute_result"
    }
   ],
   "source": [
    "client.base_url"
   ]
  },
  {
   "cell_type": "code",
   "execution_count": 42,
   "id": "ee7e40a1-13f7-42be-8228-55effdea31c7",
   "metadata": {},
   "outputs": [
    {
     "data": {
      "text/plain": [
       "ChatCompletion(id='chatcmpl-8LGuw5bzdthxrYAmWd5itIKT1IN5X', choices=[Choice(finish_reason='stop', index=0, message=ChatCompletionMessage(content='This is a test.', role='assistant', function_call=None, tool_calls=None))], created=1700080610, model='gpt-3.5-turbo-0613', object='chat.completion', system_fingerprint=None, usage=CompletionUsage(completion_tokens=5, prompt_tokens=12, total_tokens=17))"
      ]
     },
     "execution_count": 42,
     "metadata": {},
     "output_type": "execute_result"
    }
   ],
   "source": [
    "chat_completion = client.chat.completions.create(\n",
    "    messages=[\n",
    "        {\n",
    "            \"role\": \"user\",\n",
    "            \"content\": \"Say this is a test\",\n",
    "        }\n",
    "    ],\n",
    "    model=\"gpt-3.5-turbo\",\n",
    ")\n",
    "chat_completion"
   ]
  },
  {
   "cell_type": "code",
   "execution_count": 51,
   "id": "508eab9b-6426-4468-928c-84313086b020",
   "metadata": {},
   "outputs": [
    {
     "data": {
      "text/plain": [
       "'This is a test.'"
      ]
     },
     "execution_count": 51,
     "metadata": {},
     "output_type": "execute_result"
    }
   ],
   "source": [
    "chat_completion.choices[0].message.content"
   ]
  },
  {
   "cell_type": "code",
   "execution_count": 55,
   "id": "60df20a7-3456-4250-8d1b-d34e0937ac99",
   "metadata": {},
   "outputs": [],
   "source": [
    "seafood =  client.chat.completions.create(\n",
    "    messages=[\n",
    "        {\n",
    "            \"role\": \"user\",\n",
    "            \"content\": \"In one word (True or False), is snapper a kind of fish?\",\n",
    "          #  \"temperature\": 0\n",
    "\n",
    "        }\n",
    "    ],\n",
    "    model=\"gpt-3.5-turbo\",\n",
    ")"
   ]
  },
  {
   "cell_type": "code",
   "execution_count": 56,
   "id": "4097b566-f35f-47db-b6b9-b8b6de49d777",
   "metadata": {},
   "outputs": [
    {
     "data": {
      "text/plain": [
       "'True'"
      ]
     },
     "execution_count": 56,
     "metadata": {},
     "output_type": "execute_result"
    }
   ],
   "source": [
    "seafood.choices[0].message.content"
   ]
  },
  {
   "cell_type": "code",
   "execution_count": 69,
   "id": "0b5c2e93-5668-4eae-8e2d-69cfd7c6b5e1",
   "metadata": {},
   "outputs": [],
   "source": [
    "def isit(x: str, y: str, client=None) -> bool:\n",
    "    \"\"\"Query GPT3.5 to ask if x is a kind of Y.\"\"\"\n",
    "    client = client or OpenAI(api_key=get_api_key())\n",
    "    response = client.chat.completions.create(\n",
    "    messages=[\n",
    "        {\n",
    "            \"role\": \"user\",\n",
    "            \"content\": f\"In one word (True or False), is {x} a kind of {y}?\",\n",
    "\n",
    "        }\n",
    "    ],\n",
    "    model=\"gpt-3.5-turbo\",\n",
    ")\n",
    "    r = response.choices[0].message.content\n",
    "    if r.startswith(\"True\"):\n",
    "        return True\n",
    "    elif r.startswith(\"False\"):\n",
    "        return False\n",
    "    else:\n",
    "        raise Exception(f\"Expected True or False from GPT3.5, got {r}\")\n"
   ]
  },
  {
   "cell_type": "code",
   "execution_count": 70,
   "id": "f63a7f22-566d-4fbb-bf3b-d43b825658b9",
   "metadata": {},
   "outputs": [
    {
     "data": {
      "text/plain": [
       "True"
      ]
     },
     "execution_count": 70,
     "metadata": {},
     "output_type": "execute_result"
    }
   ],
   "source": [
    "isit(\"algebra\",\"math\")"
   ]
  },
  {
   "cell_type": "code",
   "execution_count": 71,
   "id": "d7bbe454-29f1-47b1-afef-4127ca407379",
   "metadata": {},
   "outputs": [
    {
     "data": {
      "text/plain": [
       "False"
      ]
     },
     "execution_count": 71,
     "metadata": {},
     "output_type": "execute_result"
    }
   ],
   "source": [
    "isit(\"math\",\"algebra\")"
   ]
  },
  {
   "cell_type": "code",
   "execution_count": null,
   "id": "526ab5a7-b10a-4fdf-8700-43131348f115",
   "metadata": {},
   "outputs": [],
   "source": []
  }
 ],
 "metadata": {
  "kernelspec": {
   "display_name": "Python 3 (ipykernel)",
   "language": "python",
   "name": "python3"
  },
  "language_info": {
   "codemirror_mode": {
    "name": "ipython",
    "version": 3
   },
   "file_extension": ".py",
   "mimetype": "text/x-python",
   "name": "python",
   "nbconvert_exporter": "python",
   "pygments_lexer": "ipython3",
   "version": "3.8.10"
  }
 },
 "nbformat": 4,
 "nbformat_minor": 5
}
