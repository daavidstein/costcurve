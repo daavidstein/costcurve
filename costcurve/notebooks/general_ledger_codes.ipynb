{
 "cells": [
  {
   "cell_type": "code",
   "execution_count": 1,
   "id": "4dadcbb4-fbfc-4d12-8e31-b43177a1ce36",
   "metadata": {},
   "outputs": [],
   "source": [
    "#!pip install networkx"
   ]
  },
  {
   "cell_type": "code",
   "execution_count": 53,
   "id": "7d374047-e59b-4a05-b6c7-07a2ca53f05d",
   "metadata": {},
   "outputs": [],
   "source": [
    "import networkx as nx\n",
    "from collections import defaultdict\n",
    "from typing import List, Tuple, Set"
   ]
  },
  {
   "cell_type": "code",
   "execution_count": 32,
   "id": "e059091e-e4e5-45c0-b896-1e45635068eb",
   "metadata": {},
   "outputs": [
    {
     "data": {
      "text/plain": [
       "'Need to be able to do the reverse as well -- go from a dict of general ledger codes to a graph representation'"
      ]
     },
     "execution_count": 32,
     "metadata": {},
     "output_type": "execute_result"
    }
   ],
   "source": [
    "\"\"\"Need to be able to do the reverse as well -- go from a dict of general ledger codes to a graph representation\"\"\""
   ]
  },
  {
   "cell_type": "code",
   "execution_count": 71,
   "id": "4da18670-0891-4854-8d6f-975721be9588",
   "metadata": {},
   "outputs": [],
   "source": [
    "class Inventory:\n",
    "    def __init__(self, nodes: Set[str], edges: Set[Tuple[str,str]]):\n",
    "        \n",
    "        self.validate_edges(edges)\n",
    "        self.graph = nx.DiGraph()\n",
    "        self.graph.add_nodes_from(nodes)\n",
    "        self.graph.add_edges_from(edges)\n",
    "\n",
    "    def validate_edges(self, edges: Set[Tuple[str,str]]):\n",
    "        \"\"\"\n",
    "        Check that each child has only one parent\n",
    "        \n",
    "        TODO use typechecking to enforce that each tuple is a pair of strings\n",
    "        \"\"\"\n",
    "        #Each child has only one parent implies that no node appears more than once as the second element in an edge\n",
    "        children = [edge[1] for edge in edges]\n",
    "        if len(children) != len(set(children)):\n",
    "            print(children)\n",
    "            raise Exception(\"Some nodes have more than one parent!\")\n",
    "        \n",
    "        \n",
    "    def get_parent(self, node: str):\n",
    "        if not node in self.graph.nodes:\n",
    "            raise Exception(f\"{node} not in nodes: {list(G.nodes)}\")\n",
    "        for edge in self.graph.edges:\n",
    "            if edge[1] == node:\n",
    "                return edge[0]\n",
    "                \n",
    "    def get_ancestors(self,node, ancestors=None):\n",
    "        \"\"\"Get the ancestors of a node recursively.\n",
    "        we use the convention that every node is an ancestor of itself\"\"\"\n",
    "        \n",
    "        ancestors = ancestors or [node]\n",
    "        parent = self.get_parent(node)\n",
    "        if not parent:\n",
    "            return ancestors\n",
    "        else:\n",
    "            ancestors.append(parent)\n",
    "            anc = self.get_ancestors(parent, ancestors)\n",
    "            return anc\n",
    "        \n",
    "        \n",
    "    \n",
    "        "
   ]
  },
  {
   "cell_type": "code",
   "execution_count": 72,
   "id": "ffed9cf5-0ac0-4681-ac0b-ef6c77490d18",
   "metadata": {},
   "outputs": [],
   "source": [
    "inv = Inventory(nodes=set(['seafood', 'meat', 'fish', 'mussels', 'steak', 'chicken', \"snapper\", \"chicken\", \"drumstick\", \"quarter\", \"filet mignon\", \"12oz\", \"10oz\", \"8oz\"]),\n",
    "               edges =set([('seafood', 'fish'), ('seafood', 'mussels'), ('meat', 'steak'), ('meat', 'chicken'), ('fish', 'snapper'), ('steak', 'filet mignon'), ('chicken', 'quarter'), ('chicken', 'drumstick'), ('filet mignon', '8oz'), ('filet mignon', '10oz'), ('filet mignon', '12oz')]))"
   ]
  },
  {
   "cell_type": "code",
   "execution_count": 69,
   "id": "2e090bb3-db16-4b5b-83db-cc045f1c49b5",
   "metadata": {},
   "outputs": [
    {
     "data": {
      "text/plain": [
       "'meat'"
      ]
     },
     "execution_count": 69,
     "metadata": {},
     "output_type": "execute_result"
    }
   ],
   "source": [
    "inv.get_parent(\"steak\")"
   ]
  },
  {
   "cell_type": "code",
   "execution_count": 73,
   "id": "0f2daf6b-73f0-41ad-be31-cb01b387bddb",
   "metadata": {},
   "outputs": [
    {
     "data": {
      "text/plain": [
       "['12oz', 'filet mignon', 'steak', 'meat']"
      ]
     },
     "execution_count": 73,
     "metadata": {},
     "output_type": "execute_result"
    }
   ],
   "source": [
    "inv.get_ancestors(\"12oz\")"
   ]
  },
  {
   "cell_type": "code",
   "execution_count": 3,
   "id": "186e8629-8ae2-429a-a125-dd91d69b744e",
   "metadata": {},
   "outputs": [],
   "source": [
    "def get_parent(G, node):\n",
    "    \"\"\"TODO Need to assert that each child has only one parent\"\"\"\n",
    "    if not node in G.nodes:\n",
    "        raise Exception(f\"{node} not in nodes: {list(G.nodes)}\")\n",
    "    for edge in G.edges:\n",
    "        if edge[1] == node:\n",
    "            return edge[0]\n"
   ]
  },
  {
   "cell_type": "code",
   "execution_count": 4,
   "id": "e5406666-f6a8-464d-ba01-5b41fc9ef573",
   "metadata": {},
   "outputs": [],
   "source": [
    "def get_ancestors(G,node, ancestors=None):\n",
    "    \"\"\"Get the ancestors of a node recursively.\n",
    "    we use the convention that every node is an ancestor of itself\"\"\"\n",
    "    \n",
    "    ancestors = ancestors or [node]\n",
    "    parent = get_parent(G,node)\n",
    "    if not parent:\n",
    "        return ancestors\n",
    "    else:\n",
    "        ancestors.append(parent)\n",
    "        anc = get_ancestors(G,parent, ancestors)\n",
    "        return anc\n",
    "        \n",
    "        \n",
    "    "
   ]
  },
  {
   "cell_type": "code",
   "execution_count": 5,
   "id": "f5ceaae3-91dc-487d-9355-d8712efbd15c",
   "metadata": {},
   "outputs": [],
   "source": [
    "def get_level(G,node):\n",
    "    \"\"\"Get the number of ancestors (including self)\"\"\"\n",
    "    return len(get_ancestors(G,node))"
   ]
  },
  {
   "cell_type": "code",
   "execution_count": 34,
   "id": "e93ff9ea-7c30-4b75-82f5-3fab289aecc6",
   "metadata": {},
   "outputs": [],
   "source": [
    "def get_max_level(G):\n",
    "    #TODO\n",
    "    pass"
   ]
  },
  {
   "cell_type": "code",
   "execution_count": 6,
   "id": "bfc2b4c4-51ae-4184-b79a-ad17f2e3eddf",
   "metadata": {},
   "outputs": [],
   "source": [
    "def get_code(G,node):\n",
    "    \"\"\"FIXME don't hardcode 4 levels\"\"\"\n",
    "    index = nx.get_node_attributes(G,\"index\")[node]\n",
    "    multiplier = 10**(4-get_level(G,node))\n",
    "    parent = get_parent(G,node)\n",
    "    if get_level(G,node) == 1:\n",
    "        return index*multiplier\n",
    "    else:\n",
    "        return index*multiplier + get_code(G,parent)"
   ]
  },
  {
   "cell_type": "code",
   "execution_count": 7,
   "id": "4cd20e76-290e-450b-9c8c-3e49524ab81c",
   "metadata": {},
   "outputs": [
    {
     "data": {
      "text/plain": [
       "['seafood',\n",
       " 'meat',\n",
       " 'fish',\n",
       " 'mussels',\n",
       " 'steak',\n",
       " 'chicken',\n",
       " 'snapper',\n",
       " 'drumstick',\n",
       " 'quarter',\n",
       " 'filet mignon',\n",
       " '12oz',\n",
       " '10oz',\n",
       " '8oz']"
      ]
     },
     "execution_count": 7,
     "metadata": {},
     "output_type": "execute_result"
    }
   ],
   "source": [
    "G = nx.DiGraph()\n",
    "for key in ['seafood', 'meat', 'fish', 'mussels', 'steak', 'chicken', \"snapper\", \"chicken\", \"drumstick\", \"quarter\", \"filet mignon\", \"12oz\", \"10oz\", \"8oz\"]:\n",
    "    G.add_node(key)\n",
    "list(G.nodes)"
   ]
  },
  {
   "cell_type": "code",
   "execution_count": 8,
   "id": "aa97762c-6a8d-4a86-bc2f-9c36a1ce3bfc",
   "metadata": {},
   "outputs": [],
   "source": [
    "G.add_edge(\"meat\",\"steak\")\n",
    "G.add_edge(\"steak\",\"filet mignon\")\n",
    "G.add_edge(\"filet mignon\",\"8oz\")\n",
    "G.add_edge(\"filet mignon\",\"10oz\")\n",
    "G.add_edge(\"filet mignon\",\"12oz\")\n",
    "G.add_edge(\"seafood\",\"fish\")\n",
    "G.add_edge(\"fish\", \"snapper\")\n",
    "G.add_edge(\"seafood\",\"mussels\")\n",
    "G.add_edge(\"meat\",\"chicken\")\n",
    "G.add_edge(\"chicken\",\"quarter\")\n",
    "G.add_edge(\"chicken\",\"drumstick\")\n",
    "G.add_edge(\"meat\",\"steak\")"
   ]
  },
  {
   "cell_type": "code",
   "execution_count": 35,
   "id": "b0670a14-0233-4c99-a8a8-944aa1512e91",
   "metadata": {},
   "outputs": [],
   "source": [
    "F = nx.DiGraph()\n",
    "F.add_nodes_from(['seafood',\n",
    " 'meat',\n",
    " 'fish',\n",
    " 'mussels',\n",
    " 'steak',\n",
    " 'chicken',\n",
    " 'snapper',\n",
    " 'drumstick',\n",
    " 'quarter',\n",
    " 'filet mignon',\n",
    " '12oz',\n",
    " '10oz',\n",
    " '8oz'])"
   ]
  },
  {
   "cell_type": "code",
   "execution_count": 37,
   "id": "4c7d7fb6-14e8-413a-af16-401bec3d028f",
   "metadata": {},
   "outputs": [
    {
     "data": {
      "text/plain": [
       "NodeView(('seafood', 'meat', 'fish', 'mussels', 'steak', 'chicken', 'snapper', 'drumstick', 'quarter', 'filet mignon', '12oz', '10oz', '8oz'))"
      ]
     },
     "execution_count": 37,
     "metadata": {},
     "output_type": "execute_result"
    }
   ],
   "source": [
    "F.nodes"
   ]
  },
  {
   "cell_type": "code",
   "execution_count": 39,
   "id": "a7b06a76-0f05-42c1-9866-a05c74d9a263",
   "metadata": {},
   "outputs": [],
   "source": [
    "F.add_edges_from([('seafood', 'fish'), ('seafood', 'mussels'), ('meat', 'steak'), ('meat', 'chicken'), ('fish', 'snapper'), ('steak', 'filet mignon'), ('chicken', 'quarter'), ('chicken', 'drumstick'), ('filet mignon', '8oz'), ('filet mignon', '10oz'), ('filet mignon', '12oz')])"
   ]
  },
  {
   "cell_type": "code",
   "execution_count": 41,
   "id": "c231f4c4-cdd3-4268-99a5-e9f305f4e699",
   "metadata": {},
   "outputs": [
    {
     "data": {
      "text/plain": [
       "OutEdgeView([('seafood', 'fish'), ('seafood', 'mussels'), ('meat', 'steak'), ('meat', 'chicken'), ('fish', 'snapper'), ('steak', 'filet mignon'), ('chicken', 'quarter'), ('chicken', 'drumstick'), ('filet mignon', '8oz'), ('filet mignon', '10oz'), ('filet mignon', '12oz')])"
      ]
     },
     "execution_count": 41,
     "metadata": {},
     "output_type": "execute_result"
    }
   ],
   "source": [
    "F.edges"
   ]
  },
  {
   "cell_type": "code",
   "execution_count": 38,
   "id": "43eee072-2c20-4c65-8615-41d08e533de0",
   "metadata": {},
   "outputs": [
    {
     "data": {
      "text/plain": [
       "NodeView(('seafood', 'meat', 'fish', 'mussels', 'steak', 'chicken', 'snapper', 'drumstick', 'quarter', 'filet mignon', '12oz', '10oz', '8oz'))"
      ]
     },
     "execution_count": 38,
     "metadata": {},
     "output_type": "execute_result"
    }
   ],
   "source": [
    "G.nodes"
   ]
  },
  {
   "cell_type": "code",
   "execution_count": 9,
   "id": "d515a57e-dcc6-4337-ae1c-a3e9881036fa",
   "metadata": {},
   "outputs": [
    {
     "data": {
      "text/plain": [
       "OutEdgeView([('seafood', 'fish'), ('seafood', 'mussels'), ('meat', 'steak'), ('meat', 'chicken'), ('fish', 'snapper'), ('steak', 'filet mignon'), ('chicken', 'quarter'), ('chicken', 'drumstick'), ('filet mignon', '8oz'), ('filet mignon', '10oz'), ('filet mignon', '12oz')])"
      ]
     },
     "execution_count": 9,
     "metadata": {},
     "output_type": "execute_result"
    }
   ],
   "source": [
    "G.edges"
   ]
  },
  {
   "cell_type": "code",
   "execution_count": 10,
   "id": "7363df4c-e10d-40b4-a4fc-a83d1cd39581",
   "metadata": {},
   "outputs": [
    {
     "data": {
      "image/png": "[encoded data removed]",
      "text/plain": [
       "<Figure size 640x480 with 1 Axes>"
      ]
     },
     "metadata": {},
     "output_type": "display_data"
    }
   ],
   "source": [
    "nx.draw(G)"
   ]
  },
  {
   "cell_type": "code",
   "execution_count": 11,
   "id": "7d47e95a-9ec9-4fbc-b6e3-9f4a94ce3f34",
   "metadata": {},
   "outputs": [
    {
     "data": {
      "text/plain": [
       "{'seafood': {'fish': {}, 'mussels': {}},\n",
       " 'meat': {'steak': {}, 'chicken': {}},\n",
       " 'fish': {'snapper': {}},\n",
       " 'mussels': {},\n",
       " 'steak': {'filet mignon': {}},\n",
       " 'chicken': {'quarter': {}, 'drumstick': {}},\n",
       " 'snapper': {},\n",
       " 'drumstick': {},\n",
       " 'quarter': {},\n",
       " 'filet mignon': {'8oz': {}, '10oz': {}, '12oz': {}},\n",
       " '12oz': {},\n",
       " '10oz': {},\n",
       " '8oz': {}}"
      ]
     },
     "execution_count": 11,
     "metadata": {},
     "output_type": "execute_result"
    }
   ],
   "source": [
    "nx.to_dict_of_dicts(G)"
   ]
  },
  {
   "cell_type": "code",
   "execution_count": 12,
   "id": "dc8f8e48-58f4-4f51-948a-35ebcf201a4c",
   "metadata": {},
   "outputs": [
    {
     "data": {
      "text/plain": [
       "'fish'"
      ]
     },
     "execution_count": 12,
     "metadata": {},
     "output_type": "execute_result"
    }
   ],
   "source": [
    "get_parent(G, \"snapper\")"
   ]
  },
  {
   "cell_type": "code",
   "execution_count": 13,
   "id": "01614864-35cc-4f13-8e3f-0e5f5e4c88c1",
   "metadata": {},
   "outputs": [
    {
     "data": {
      "text/plain": [
       "'seafood'"
      ]
     },
     "execution_count": 13,
     "metadata": {},
     "output_type": "execute_result"
    }
   ],
   "source": [
    "get_parent(G, \"fish\")"
   ]
  },
  {
   "cell_type": "code",
   "execution_count": 14,
   "id": "fec615f6-7c21-4d69-967b-03c8f4ebbee1",
   "metadata": {},
   "outputs": [
    {
     "data": {
      "text/plain": [
       "'filet mignon'"
      ]
     },
     "execution_count": 14,
     "metadata": {},
     "output_type": "execute_result"
    }
   ],
   "source": [
    "get_parent(G, \"12oz\")"
   ]
  },
  {
   "cell_type": "code",
   "execution_count": 15,
   "id": "d111d4f5-53d9-4266-b9e2-10c9454ada21",
   "metadata": {},
   "outputs": [
    {
     "data": {
      "text/plain": [
       "4"
      ]
     },
     "execution_count": 15,
     "metadata": {},
     "output_type": "execute_result"
    }
   ],
   "source": [
    "get_level(G, \"12oz\")"
   ]
  },
  {
   "cell_type": "code",
   "execution_count": 16,
   "id": "82749382-c808-43c3-b255-cda023766ca5",
   "metadata": {},
   "outputs": [
    {
     "data": {
      "text/plain": [
       "1"
      ]
     },
     "execution_count": 16,
     "metadata": {},
     "output_type": "execute_result"
    }
   ],
   "source": [
    "get_level(G, \"meat\")"
   ]
  },
  {
   "cell_type": "code",
   "execution_count": 17,
   "id": "f7210d8b-e893-4f24-aba0-a87a9579eb84",
   "metadata": {},
   "outputs": [
    {
     "data": {
      "text/plain": [
       "['12oz', 'filet mignon', 'steak', 'meat']"
      ]
     },
     "execution_count": 17,
     "metadata": {},
     "output_type": "execute_result"
    }
   ],
   "source": [
    "get_ancestors(G,\"12oz\")"
   ]
  },
  {
   "cell_type": "code",
   "execution_count": 18,
   "id": "e1c59d21-9c5a-49b5-a540-d9229f6aa2c4",
   "metadata": {},
   "outputs": [
    {
     "data": {
      "text/plain": [
       "['snapper', 'fish', 'seafood']"
      ]
     },
     "execution_count": 18,
     "metadata": {},
     "output_type": "execute_result"
    }
   ],
   "source": [
    "get_ancestors(G,\"snapper\")"
   ]
  },
  {
   "cell_type": "code",
   "execution_count": 19,
   "id": "a16ca3a4-6e8d-47c0-8357-3c1003474921",
   "metadata": {},
   "outputs": [
    {
     "data": {
      "text/plain": [
       "['quarter', 'chicken', 'meat']"
      ]
     },
     "execution_count": 19,
     "metadata": {},
     "output_type": "execute_result"
    }
   ],
   "source": [
    "get_ancestors(G,\"quarter\")"
   ]
  },
  {
   "cell_type": "code",
   "execution_count": 22,
   "id": "acbcbdf0-be3b-4d56-89d0-c9252b31fb18",
   "metadata": {},
   "outputs": [],
   "source": [
    "#want to loop over nodes of the same \"level\" and index them\n",
    "levels = defaultdict(list)\n",
    "for node in G.nodes:\n",
    "    lvl = get_level(G,node)\n",
    "    levels[lvl].append(node)\n",
    "    \n",
    "    "
   ]
  },
  {
   "cell_type": "code",
   "execution_count": 23,
   "id": "c5f03ecc-d462-44dd-8c87-d9ed7c9a92f3",
   "metadata": {},
   "outputs": [
    {
     "data": {
      "text/plain": [
       "defaultdict(list,\n",
       "            {1: ['seafood', 'meat'],\n",
       "             2: ['fish', 'mussels', 'steak', 'chicken'],\n",
       "             3: ['snapper', 'drumstick', 'quarter', 'filet mignon'],\n",
       "             4: ['12oz', '10oz', '8oz']})"
      ]
     },
     "execution_count": 23,
     "metadata": {},
     "output_type": "execute_result"
    }
   ],
   "source": [
    "levels"
   ]
  },
  {
   "cell_type": "code",
   "execution_count": 24,
   "id": "1944e0a7-60e3-46a7-a494-ad6c1fef66ee",
   "metadata": {},
   "outputs": [],
   "source": [
    "attributes = dict()\n",
    "\n",
    "for lv, nodes in levels.items():\n",
    "    for i,node in enumerate(nodes):\n",
    "        attributes[node] = i+1\n",
    "\n"
   ]
  },
  {
   "cell_type": "code",
   "execution_count": 25,
   "id": "6b4d6928-34d8-4d5e-8a2e-5d53223882e5",
   "metadata": {},
   "outputs": [
    {
     "data": {
      "text/plain": [
       "{'seafood': 1,\n",
       " 'meat': 2,\n",
       " 'fish': 1,\n",
       " 'mussels': 2,\n",
       " 'steak': 3,\n",
       " 'chicken': 4,\n",
       " 'snapper': 1,\n",
       " 'drumstick': 2,\n",
       " 'quarter': 3,\n",
       " 'filet mignon': 4,\n",
       " '12oz': 1,\n",
       " '10oz': 2,\n",
       " '8oz': 3}"
      ]
     },
     "execution_count": 25,
     "metadata": {},
     "output_type": "execute_result"
    }
   ],
   "source": [
    "attributes"
   ]
  },
  {
   "cell_type": "code",
   "execution_count": 26,
   "id": "6e557b32-05ba-4014-a210-64ae59a39f7f",
   "metadata": {},
   "outputs": [],
   "source": [
    "nx.set_node_attributes(G,attributes, \"index\")"
   ]
  },
  {
   "cell_type": "code",
   "execution_count": 27,
   "id": "f94d73ad-8225-48e4-97b1-f04b54ec24e8",
   "metadata": {},
   "outputs": [
    {
     "data": {
      "text/plain": [
       "{'seafood': 1,\n",
       " 'meat': 2,\n",
       " 'fish': 1,\n",
       " 'mussels': 2,\n",
       " 'steak': 3,\n",
       " 'chicken': 4,\n",
       " 'snapper': 1,\n",
       " 'drumstick': 2,\n",
       " 'quarter': 3,\n",
       " 'filet mignon': 4,\n",
       " '12oz': 1,\n",
       " '10oz': 2,\n",
       " '8oz': 3}"
      ]
     },
     "execution_count": 27,
     "metadata": {},
     "output_type": "execute_result"
    }
   ],
   "source": [
    "nx.get_node_attributes(G, \"index\")"
   ]
  },
  {
   "cell_type": "code",
   "execution_count": 29,
   "id": "47295968-8d53-4260-984e-57e22d7b94d5",
   "metadata": {},
   "outputs": [
    {
     "data": {
      "text/plain": [
       "2000"
      ]
     },
     "execution_count": 29,
     "metadata": {},
     "output_type": "execute_result"
    }
   ],
   "source": [
    "get_code(G,\"meat\")"
   ]
  },
  {
   "cell_type": "code",
   "execution_count": 30,
   "id": "61e5abbb-d59d-4b83-9fae-632779754a1e",
   "metadata": {},
   "outputs": [
    {
     "data": {
      "text/plain": [
       "1000"
      ]
     },
     "execution_count": 30,
     "metadata": {},
     "output_type": "execute_result"
    }
   ],
   "source": [
    "get_code(G,\"seafood\")"
   ]
  },
  {
   "cell_type": "code",
   "execution_count": 31,
   "id": "e720e3e8-4b4a-4001-824e-92c098dfb931",
   "metadata": {},
   "outputs": [
    {
     "data": {
      "text/plain": [
       "2400"
      ]
     },
     "execution_count": 31,
     "metadata": {},
     "output_type": "execute_result"
    }
   ],
   "source": [
    "get_code(G,\"chicken\")"
   ]
  },
  {
   "cell_type": "code",
   "execution_count": 28,
   "id": "64e2fb88-f453-4adf-b052-3ead6f8ad6d3",
   "metadata": {},
   "outputs": [
    {
     "data": {
      "text/plain": [
       "2341"
      ]
     },
     "execution_count": 28,
     "metadata": {},
     "output_type": "execute_result"
    }
   ],
   "source": [
    "get_code(G,\"12oz\")"
   ]
  }
 ],
 "metadata": {
  "kernelspec": {
   "display_name": "Python 3 (ipykernel)",
   "language": "python",
   "name": "python3"
  },
  "language_info": {
   "codemirror_mode": {
    "name": "ipython",
    "version": 3
   },
   "file_extension": ".py",
   "mimetype": "text/x-python",
   "name": "python",
   "nbconvert_exporter": "python",
   "pygments_lexer": "ipython3",
   "version": "3.8.10"
  }
 },
 "nbformat": 4,
 "nbformat_minor": 5
}
