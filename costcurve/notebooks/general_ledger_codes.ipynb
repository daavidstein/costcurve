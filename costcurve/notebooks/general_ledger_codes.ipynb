{
 "cells": [
  {
   "cell_type": "code",
   "execution_count": 1,
   "id": "4dadcbb4-fbfc-4d12-8e31-b43177a1ce36",
   "metadata": {},
   "outputs": [],
   "source": [
    "#!pip install networkx"
   ]
  },
  {
   "cell_type": "code",
   "execution_count": 1,
   "id": "7d374047-e59b-4a05-b6c7-07a2ca53f05d",
   "metadata": {},
   "outputs": [],
   "source": [
    "import networkx as nx\n",
    "from collections import defaultdict, Counter\n",
    "from typing import List, Tuple, Set, Dict"
   ]
  },
  {
   "cell_type": "code",
   "execution_count": 74,
   "id": "e059091e-e4e5-45c0-b896-1e45635068eb",
   "metadata": {},
   "outputs": [
    {
     "data": {
      "text/plain": [
       "\"Need to be able to do the reverse as well -- go from a dict of general ledger codes to a graph representation.\\nThat part should be pretty easy. It's easy to see from a code who the ancestors are.\""
      ]
     },
     "execution_count": 74,
     "metadata": {},
     "output_type": "execute_result"
    }
   ],
   "source": [
    "\"\"\"Need to be able to do the reverse as well -- go from a dict of general ledger codes to a graph representation.\n",
    "That part should be pretty easy. It's easy to see from a code who the ancestors are.\"\"\""
   ]
  },
  {
   "cell_type": "code",
   "execution_count": 2,
   "id": "4da18670-0891-4854-8d6f-975721be9588",
   "metadata": {},
   "outputs": [],
   "source": [
    "class Inventory:\n",
    "    def __init__(self, nodes: Set[str], edges: Set[Tuple[str,str]]):\n",
    "        \n",
    "        self.validate_edges(edges)\n",
    "        self.graph = nx.DiGraph()\n",
    "        self.graph.add_nodes_from(nodes)\n",
    "        self.graph.add_edges_from(edges)\n",
    "        self.set_indices()\n",
    "        self.code_map = self.create_codes()\n",
    "\n",
    "\n",
    "    def validate_edges(self, edges: Set[Tuple[str,str]]):\n",
    "        \"\"\"\n",
    "        Check that each child has only one parent\n",
    "        \n",
    "        TODO use typechecking to enforce that each tuple is a pair of strings\n",
    "        \"\"\"\n",
    "        #Each child has only one parent implies that no node appears more than once as the second element in an edge\n",
    "        children = [edge[1] for edge in edges]\n",
    "        if len(children) != len(set(children)):\n",
    "            raise Exception(\"Some nodes have more than one parent!\")\n",
    "    \n",
    "    def set_indices(self):\n",
    "        seen = Counter()\n",
    "        indices = dict()\n",
    "        for e in self.graph.edges:\n",
    "            seen[e[0]]+=1\n",
    "            indices[e[1]] = seen[e[0]]\n",
    "\n",
    "        #set indices of root nodes\n",
    "        root_nodes = [node for node, degree in self.graph.in_degree() if degree == 0]\n",
    "        for i, rt in enumerate(root_nodes):\n",
    "            indices[rt] = i+1\n",
    "     \n",
    "        nx.set_node_attributes(self.graph, indices, \"index\")\n",
    "        \n",
    "        \n",
    "    def get_parent(self, node: str) -> str:\n",
    "        if not node in self.graph.nodes:\n",
    "            raise Exception(f\"{node} not in nodes: {list(G.nodes)}\")\n",
    "        for edge in self.graph.edges:\n",
    "            if edge[1] == node:\n",
    "                return edge[0]\n",
    "                \n",
    "    def get_ancestors(self,node, ancestors=None) -> List[str]:\n",
    "        \"\"\"Get the ancestors of a node recursively.\n",
    "        we use the convention that every node is an ancestor of itself\"\"\"\n",
    "        \n",
    "        ancestors = ancestors or [node]\n",
    "        parent = self.get_parent(node)\n",
    "        if not parent:\n",
    "            return ancestors\n",
    "        else:\n",
    "            ancestors.append(parent)\n",
    "            anc = self.get_ancestors(parent, ancestors)\n",
    "            return anc\n",
    "\n",
    "    def get_depth(self,node: str)-> int:\n",
    "        \"\"\"Get the number of ancestors of a node (including self)\"\"\"\n",
    "        return len(self.get_ancestors(node))\n",
    "        \n",
    "        \n",
    "    def get_max_depth(self):\n",
    "        return max([self.get_depth(nd) for nd in self.graph.nodes])\n",
    "        \n",
    "        \n",
    "    def get_code(self,node):\n",
    "        \"\"\"Construct the general ledger code of an item in the inventory\"\"\"\n",
    "        \n",
    "        index = nx.get_node_attributes(self.graph,\"index\")[node]\n",
    "        multiplier = 10**(self.get_max_depth()-self.get_depth(node))\n",
    "        parent = self.get_parent(node)\n",
    "        if self.get_depth(node) == 1:\n",
    "            return index*multiplier\n",
    "        else:\n",
    "            return index*multiplier + self.get_code(parent)\n",
    "\n",
    "    def create_codes(self) -> Dict[int,str]:\n",
    "        code_item = {self.get_code(nd): nd for nd in self.graph.nodes}\n",
    "        return {k: v for k,v in sorted(code_item.items())}\n",
    "\n",
    "            "
   ]
  },
  {
   "cell_type": "code",
   "execution_count": 3,
   "id": "ffed9cf5-0ac0-4681-ac0b-ef6c77490d18",
   "metadata": {},
   "outputs": [],
   "source": [
    "inv = Inventory(nodes=set(['seafood', 'meat', 'fish', 'mussels', 'steak', 'chicken', \"snapper\", \"chicken\", \"drumstick\", \"quarter\", \"filet mignon\", \"12oz\", \"10oz\", \"8oz\"]),\n",
    "               edges =set([('seafood', 'fish'), ('seafood', 'mussels'), ('meat', 'steak'), ('meat', 'chicken'), ('fish', 'snapper'), ('steak', 'filet mignon'), ('chicken', 'quarter'), ('chicken', 'drumstick'), ('filet mignon', '8oz'), ('filet mignon', '10oz'), ('filet mignon', '12oz')]))"
   ]
  },
  {
   "cell_type": "code",
   "execution_count": 4,
   "id": "031778d1-77c1-4d73-aca8-1b81b6e48d0f",
   "metadata": {},
   "outputs": [
    {
     "data": {
      "text/plain": [
       "{1000: 'seafood',\n",
       " 1100: 'mussels',\n",
       " 1200: 'fish',\n",
       " 1210: 'snapper',\n",
       " 2000: 'meat',\n",
       " 2100: 'steak',\n",
       " 2110: 'filet mignon',\n",
       " 2111: '8oz',\n",
       " 2112: '10oz',\n",
       " 2113: '12oz',\n",
       " 2200: 'chicken',\n",
       " 2210: 'drumstick',\n",
       " 2220: 'quarter'}"
      ]
     },
     "execution_count": 4,
     "metadata": {},
     "output_type": "execute_result"
    }
   ],
   "source": [
    "inv.code_map"
   ]
  },
  {
   "cell_type": "code",
   "execution_count": 23,
   "id": "757a3e1d-3c5b-4dc7-8b97-50984dc5bb2f",
   "metadata": {},
   "outputs": [],
   "source": [
    "def code_map_to_edges(code_map: Dict[int,str]) -> List[Tuple[str,str]]:\n",
    "    nodes = list(code_map.keys())\n",
    "    edges = list()\n",
    "    for code, nd_name  in code_map.items():\n",
    "        parent_code = get_code_parent(code)\n",
    "        parent_name = code_map[parent_code]\n",
    "        edges.append((parent_name,nd_name))\n",
    "    return edges\n",
    "        \n",
    "        \n",
    "        \n"
   ]
  },
  {
   "cell_type": "code",
   "execution_count": 25,
   "id": "fc1e0943-0906-4457-b18b-77e391c1da26",
   "metadata": {},
   "outputs": [
    {
     "data": {
      "text/plain": [
       "[('seafood', 'seafood'),\n",
       " ('mussels', 'mussels'),\n",
       " ('fish', 'fish'),\n",
       " ('snapper', 'snapper'),\n",
       " ('meat', 'meat'),\n",
       " ('steak', 'steak'),\n",
       " ('filet mignon', 'filet mignon'),\n",
       " ('filet mignon', '8oz'),\n",
       " ('filet mignon', '10oz'),\n",
       " ('filet mignon', '12oz'),\n",
       " ('chicken', 'chicken'),\n",
       " ('drumstick', 'drumstick'),\n",
       " ('quarter', 'quarter')]"
      ]
     },
     "execution_count": 25,
     "metadata": {},
     "output_type": "execute_result"
    }
   ],
   "source": [
    "code_map_to_edges(inv.code_map)"
   ]
  },
  {
   "cell_type": "code",
   "execution_count": 17,
   "id": "96b6b00d-1d80-457d-8521-3d83cea1a808",
   "metadata": {},
   "outputs": [],
   "source": [
    "def expand_code(code: int) -> List[int]:\n",
    "    code = str(code)\n",
    "    power = len(code) -1\n",
    "    expanded = list()\n",
    "    for digit in code:\n",
    "        if power == -1:\n",
    "            break\n",
    "        expanded.append(int(digit)*10**power)\n",
    "        power-=1\n",
    "    return expanded\n",
    "        \n",
    "        \n",
    "    "
   ]
  },
  {
   "cell_type": "code",
   "execution_count": 18,
   "id": "f87c477d-5646-48c4-9624-e86eaa523634",
   "metadata": {},
   "outputs": [
    {
     "data": {
      "text/plain": [
       "[50000, 4000, 300, 20, 1]"
      ]
     },
     "execution_count": 18,
     "metadata": {},
     "output_type": "execute_result"
    }
   ],
   "source": [
    "expand_code(54321)"
   ]
  },
  {
   "cell_type": "code",
   "execution_count": 35,
   "id": "fbf7c7d3-8c57-40bb-8523-3bb38dc531bd",
   "metadata": {},
   "outputs": [],
   "source": [
    "def get_last_nonzero_digit(code):\n",
    "    code = str(code)\n",
    "    last_nonzero_index = -1\n",
    "    while code[last_nonzero_index] == '0':\n",
    "        last_nonzero_index -=1\n",
    "    return int(code[last_nonzero_index])"
   ]
  },
  {
   "cell_type": "code",
   "execution_count": 41,
   "id": "c9e8950b-be7d-45db-8327-6a3d938f36cd",
   "metadata": {},
   "outputs": [],
   "source": [
    "def get_code_parent(code: int) -> int:\n",
    "    #power = -1*get_last_nonzero_digit(code)\n",
    "    power = 1\n",
    "    return code - (code % 10**power)"
   ]
  },
  {
   "cell_type": "code",
   "execution_count": 14,
   "id": "0087b0f8-d6df-4baf-ae15-ada33a1ea134",
   "metadata": {},
   "outputs": [
    {
     "data": {
      "text/plain": [
       "[50000, 4000, 300, 20, 1]"
      ]
     },
     "execution_count": 14,
     "metadata": {},
     "output_type": "execute_result"
    }
   ],
   "source": [
    "code = 54321\n",
    "code = str(code)\n",
    "power = len(code) -1\n",
    "expanded = list()\n",
    "for digit in code:\n",
    "    if power == -1:\n",
    "        break\n",
    "    expanded.append(int(digit)*10**power)\n",
    "    power-=1\n",
    "expanded\n",
    "\n",
    "    "
   ]
  },
  {
   "cell_type": "code",
   "execution_count": 49,
   "id": "13d0f0e4-79cf-4d96-8877-cc7b54e98049",
   "metadata": {},
   "outputs": [
    {
     "data": {
      "text/plain": [
       "5400"
      ]
     },
     "execution_count": 49,
     "metadata": {},
     "output_type": "execute_result"
    }
   ],
   "source": [
    "get_code_parent(5400)"
   ]
  },
  {
   "cell_type": "code",
   "execution_count": 51,
   "id": "63a8dd10-f848-420e-8e3b-57b53eccd13c",
   "metadata": {},
   "outputs": [
    {
     "data": {
      "text/plain": [
       "0"
      ]
     },
     "execution_count": 51,
     "metadata": {},
     "output_type": "execute_result"
    }
   ],
   "source": [
    "5400 - (5400 % 10**get_last_nonzero_digit(5400))"
   ]
  },
  {
   "cell_type": "code",
   "execution_count": 54,
   "id": "7aecf53f-c23c-41be-b2db-b346d06a9566",
   "metadata": {},
   "outputs": [
    {
     "data": {
      "text/plain": [
       "4"
      ]
     },
     "execution_count": 54,
     "metadata": {},
     "output_type": "execute_result"
    }
   ],
   "source": [
    "get_last_nonzero_digit(5400)*10"
   ]
  },
  {
   "cell_type": "code",
   "execution_count": 15,
   "id": "48f1285a-f20c-4031-9cea-5a046e4af7b0",
   "metadata": {},
   "outputs": [
    {
     "data": {
      "text/plain": [
       "54321"
      ]
     },
     "execution_count": 15,
     "metadata": {},
     "output_type": "execute_result"
    }
   ],
   "source": [
    "sum(expanded)"
   ]
  },
  {
   "cell_type": "code",
   "execution_count": 8,
   "id": "91681ed1-d5d3-4d25-9b16-bc0422b43abd",
   "metadata": {},
   "outputs": [
    {
     "data": {
      "text/plain": [
       "100000"
      ]
     },
     "execution_count": 8,
     "metadata": {},
     "output_type": "execute_result"
    }
   ],
   "source": [
    "10**5"
   ]
  },
  {
   "cell_type": "code",
   "execution_count": 26,
   "id": "710ebf61-7808-4333-abd5-6b877522e325",
   "metadata": {},
   "outputs": [
    {
     "data": {
      "text/plain": [
       "'54321'"
      ]
     },
     "execution_count": 26,
     "metadata": {},
     "output_type": "execute_result"
    }
   ],
   "source": [
    "code"
   ]
  },
  {
   "cell_type": "code",
   "execution_count": 27,
   "id": "dc91fa13-dac0-40b3-bc01-0d6cf37587e0",
   "metadata": {},
   "outputs": [
    {
     "data": {
      "text/plain": [
       "'1'"
      ]
     },
     "execution_count": 27,
     "metadata": {},
     "output_type": "execute_result"
    }
   ],
   "source": [
    "code[-1]"
   ]
  },
  {
   "cell_type": "code",
   "execution_count": 36,
   "id": "3d0f14c1-fcfc-420a-88a1-e2d3bea4ed09",
   "metadata": {},
   "outputs": [
    {
     "data": {
      "text/plain": [
       "3"
      ]
     },
     "execution_count": 36,
     "metadata": {},
     "output_type": "execute_result"
    }
   ],
   "source": [
    "get_last_nonzero_digit(12300)"
   ]
  },
  {
   "cell_type": "code",
   "execution_count": 37,
   "id": "05ab9a62-509d-4425-80f0-c196a2b79014",
   "metadata": {},
   "outputs": [
    {
     "data": {
      "text/plain": [
       "5"
      ]
     },
     "execution_count": 37,
     "metadata": {},
     "output_type": "execute_result"
    }
   ],
   "source": [
    "get_last_nonzero_digit(15000)"
   ]
  },
  {
   "cell_type": "code",
   "execution_count": null,
   "id": "43ab9daf-8637-46d6-adcd-5818d0e19342",
   "metadata": {},
   "outputs": [],
   "source": []
  }
 ],
 "metadata": {
  "kernelspec": {
   "display_name": "Python 3 (ipykernel)",
   "language": "python",
   "name": "python3"
  },
  "language_info": {
   "codemirror_mode": {
    "name": "ipython",
    "version": 3
   },
   "file_extension": ".py",
   "mimetype": "text/x-python",
   "name": "python",
   "nbconvert_exporter": "python",
   "pygments_lexer": "ipython3",
   "version": "3.8.10"
  }
 },
 "nbformat": 4,
 "nbformat_minor": 5
}
