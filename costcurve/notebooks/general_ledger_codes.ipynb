{
 "cells": [
  {
   "cell_type": "code",
   "execution_count": 1,
   "id": "4dadcbb4-fbfc-4d12-8e31-b43177a1ce36",
   "metadata": {},
   "outputs": [],
   "source": [
    "#!pip install networkx"
   ]
  },
  {
   "cell_type": "code",
   "execution_count": 1,
   "id": "7d374047-e59b-4a05-b6c7-07a2ca53f05d",
   "metadata": {},
   "outputs": [],
   "source": [
    "import networkx as nx\n",
    "from collections import defaultdict, Counter\n",
    "from typing import List, Tuple, Set, Dict\n",
    "import sys\n",
    "sys.path.append(\"..\")\n",
    "from inventory import Inventory"
   ]
  },
  {
   "cell_type": "code",
   "execution_count": 2,
   "id": "ffed9cf5-0ac0-4681-ac0b-ef6c77490d18",
   "metadata": {},
   "outputs": [],
   "source": [
    "inv = Inventory(nodes=set(['seafood', 'meat', 'fish', 'mussels', 'steak', 'chicken', \"snapper\", \"chicken\", \"drumstick\", \"quarter\", \"filet mignon\", \"12oz\", \"10oz\", \"8oz\"]),\n",
    "               edges =set([('seafood', 'fish'), ('seafood', 'mussels'), ('meat', 'steak'), ('meat', 'chicken'), ('fish', 'snapper'), ('steak', 'filet mignon'), ('chicken', 'quarter'), ('chicken', 'drumstick'), ('filet mignon', '8oz'), ('filet mignon', '10oz'), ('filet mignon', '12oz')]))"
   ]
  },
  {
   "cell_type": "code",
   "execution_count": 3,
   "id": "031778d1-77c1-4d73-aca8-1b81b6e48d0f",
   "metadata": {
    "scrolled": true
   },
   "outputs": [
    {
     "data": {
      "text/plain": [
       "{1000: 'meat',\n",
       " 1100: 'chicken',\n",
       " 1110: 'drumstick',\n",
       " 1120: 'quarter',\n",
       " 1200: 'steak',\n",
       " 1210: 'filet mignon',\n",
       " 1211: '12oz',\n",
       " 1212: '10oz',\n",
       " 1213: '8oz',\n",
       " 2000: 'seafood',\n",
       " 2100: 'fish',\n",
       " 2110: 'snapper',\n",
       " 2200: 'mussels'}"
      ]
     },
     "execution_count": 3,
     "metadata": {},
     "output_type": "execute_result"
    }
   ],
   "source": [
    "inv.code_map"
   ]
  },
  {
   "cell_type": "code",
   "execution_count": 4,
   "id": "2bd36ff8-f2da-4110-b7e3-2b4aee871bda",
   "metadata": {},
   "outputs": [
    {
     "data": {
      "text/plain": [
       "['filet mignon']"
      ]
     },
     "execution_count": 4,
     "metadata": {},
     "output_type": "execute_result"
    }
   ],
   "source": [
    "parents = inv.identify_parents(\"6oz filet mignon\")\n",
    "parents"
   ]
  },
  {
   "cell_type": "code",
   "execution_count": null,
   "id": "93f6363a-977a-44bc-aaa5-fad638f26ead",
   "metadata": {},
   "outputs": [],
   "source": [
    "inv.add_item_to_graph(\"6oz filet mignon\")\n",
    "inv.code_map"
   ]
  },
  {
   "cell_type": "code",
   "execution_count": 5,
   "id": "d5c893cd-a49f-43dd-903c-3d7b8aac263e",
   "metadata": {},
   "outputs": [],
   "source": [
    "depths = [{node: inv.get_depth(node) for node in inv.graph.nodes}]"
   ]
  },
  {
   "cell_type": "code",
   "execution_count": 6,
   "id": "3d26b981-9365-41a3-867d-40c34d5c87cd",
   "metadata": {
    "scrolled": true
   },
   "outputs": [
    {
     "data": {
      "text/plain": [
       "[{'seafood': 1,\n",
       "  'meat': 1,\n",
       "  'quarter': 3,\n",
       "  'snapper': 3,\n",
       "  'filet mignon': 3,\n",
       "  'drumstick': 3,\n",
       "  'fish': 2,\n",
       "  'steak': 2,\n",
       "  'mussels': 2,\n",
       "  '10oz': 4,\n",
       "  '12oz': 4,\n",
       "  '8oz': 4,\n",
       "  'chicken': 2}]"
      ]
     },
     "execution_count": 6,
     "metadata": {},
     "output_type": "execute_result"
    }
   ],
   "source": [
    "depths"
   ]
  },
  {
   "cell_type": "code",
   "execution_count": 8,
   "id": "c3042286-287b-4620-9c6d-3a16d2dbe964",
   "metadata": {},
   "outputs": [
    {
     "data": {
      "text/plain": [
       "defaultdict(list,\n",
       "            {1: ['seafood', 'meat'],\n",
       "             3: ['quarter', 'snapper', 'filet mignon', 'drumstick'],\n",
       "             2: ['fish', 'steak', 'mussels', 'chicken'],\n",
       "             4: ['10oz', '12oz', '8oz']})"
      ]
     },
     "execution_count": 8,
     "metadata": {},
     "output_type": "execute_result"
    }
   ],
   "source": [
    "depth_dict = defaultdict(list)\n",
    "for n in inv.graph.nodes:\n",
    "    depth_dict[inv.get_depth(n)].append(n)\n",
    "\n",
    "\n",
    "for "
   ]
  },
  {
   "cell_type": "code",
   "execution_count": 10,
   "id": "747a2e05-b1da-42b9-84d3-a05fa531e36c",
   "metadata": {},
   "outputs": [
    {
     "data": {
      "text/plain": [
       "[4, 3, 2, 1]"
      ]
     },
     "execution_count": 10,
     "metadata": {},
     "output_type": "execute_result"
    }
   ],
   "source": [
    "sorted(range(1,5),reverse=True)"
   ]
  },
  {
   "cell_type": "markdown",
   "id": "5800cdee-f877-4141-ba3b-fae0eca7b9b5",
   "metadata": {},
   "source": [
    "__The following is work in progress:__\n",
    "We need to be able to do the reverse as well -- go from a dict of general ledger codes to a graph representation.That part should be pretty easy. It's easy to see from a code who the ancestors are."
   ]
  },
  {
   "cell_type": "code",
   "execution_count": 23,
   "id": "757a3e1d-3c5b-4dc7-8b97-50984dc5bb2f",
   "metadata": {},
   "outputs": [],
   "source": [
    "def code_map_to_edges(code_map: Dict[int,str]) -> List[Tuple[str,str]]:\n",
    "    nodes = list(code_map.keys())\n",
    "    edges = list()\n",
    "    for code, nd_name  in code_map.items():\n",
    "        parent_code = get_code_parent(code)\n",
    "        parent_name = code_map[parent_code]\n",
    "        edges.append((parent_name,nd_name))\n",
    "    return edges\n",
    "        \n",
    "        \n",
    "        \n"
   ]
  },
  {
   "cell_type": "code",
   "execution_count": 25,
   "id": "fc1e0943-0906-4457-b18b-77e391c1da26",
   "metadata": {},
   "outputs": [
    {
     "data": {
      "text/plain": [
       "[('seafood', 'seafood'),\n",
       " ('mussels', 'mussels'),\n",
       " ('fish', 'fish'),\n",
       " ('snapper', 'snapper'),\n",
       " ('meat', 'meat'),\n",
       " ('steak', 'steak'),\n",
       " ('filet mignon', 'filet mignon'),\n",
       " ('filet mignon', '8oz'),\n",
       " ('filet mignon', '10oz'),\n",
       " ('filet mignon', '12oz'),\n",
       " ('chicken', 'chicken'),\n",
       " ('drumstick', 'drumstick'),\n",
       " ('quarter', 'quarter')]"
      ]
     },
     "execution_count": 25,
     "metadata": {},
     "output_type": "execute_result"
    }
   ],
   "source": [
    "code_map_to_edges(inv.code_map)"
   ]
  },
  {
   "cell_type": "code",
   "execution_count": 17,
   "id": "96b6b00d-1d80-457d-8521-3d83cea1a808",
   "metadata": {},
   "outputs": [],
   "source": [
    "def expand_code(code: int) -> List[int]:\n",
    "    code = str(code)\n",
    "    power = len(code) -1\n",
    "    expanded = list()\n",
    "    for digit in code:\n",
    "        if power == -1:\n",
    "            break\n",
    "        expanded.append(int(digit)*10**power)\n",
    "        power-=1\n",
    "    return expanded\n",
    "        \n",
    "        \n",
    "    "
   ]
  },
  {
   "cell_type": "code",
   "execution_count": 18,
   "id": "f87c477d-5646-48c4-9624-e86eaa523634",
   "metadata": {},
   "outputs": [
    {
     "data": {
      "text/plain": [
       "[50000, 4000, 300, 20, 1]"
      ]
     },
     "execution_count": 18,
     "metadata": {},
     "output_type": "execute_result"
    }
   ],
   "source": [
    "expand_code(54321)"
   ]
  },
  {
   "cell_type": "code",
   "execution_count": 35,
   "id": "fbf7c7d3-8c57-40bb-8523-3bb38dc531bd",
   "metadata": {},
   "outputs": [],
   "source": [
    "def get_last_nonzero_digit(code):\n",
    "    code = str(code)\n",
    "    last_nonzero_index = -1\n",
    "    while code[last_nonzero_index] == '0':\n",
    "        last_nonzero_index -=1\n",
    "    return int(code[last_nonzero_index])"
   ]
  },
  {
   "cell_type": "code",
   "execution_count": 41,
   "id": "c9e8950b-be7d-45db-8327-6a3d938f36cd",
   "metadata": {},
   "outputs": [],
   "source": [
    "def get_code_parent(code: int) -> int:\n",
    "    #power = -1*get_last_nonzero_digit(code)\n",
    "    power = 1\n",
    "    return code - (code % 10**power)"
   ]
  },
  {
   "cell_type": "code",
   "execution_count": 14,
   "id": "0087b0f8-d6df-4baf-ae15-ada33a1ea134",
   "metadata": {},
   "outputs": [
    {
     "data": {
      "text/plain": [
       "[50000, 4000, 300, 20, 1]"
      ]
     },
     "execution_count": 14,
     "metadata": {},
     "output_type": "execute_result"
    }
   ],
   "source": [
    "code = 54321\n",
    "code = str(code)\n",
    "power = len(code) -1\n",
    "expanded = list()\n",
    "for digit in code:\n",
    "    if power == -1:\n",
    "        break\n",
    "    expanded.append(int(digit)*10**power)\n",
    "    power-=1\n",
    "expanded\n",
    "\n",
    "    "
   ]
  },
  {
   "cell_type": "code",
   "execution_count": 49,
   "id": "13d0f0e4-79cf-4d96-8877-cc7b54e98049",
   "metadata": {},
   "outputs": [
    {
     "data": {
      "text/plain": [
       "5400"
      ]
     },
     "execution_count": 49,
     "metadata": {},
     "output_type": "execute_result"
    }
   ],
   "source": [
    "get_code_parent(5400)"
   ]
  },
  {
   "cell_type": "code",
   "execution_count": 51,
   "id": "63a8dd10-f848-420e-8e3b-57b53eccd13c",
   "metadata": {},
   "outputs": [
    {
     "data": {
      "text/plain": [
       "0"
      ]
     },
     "execution_count": 51,
     "metadata": {},
     "output_type": "execute_result"
    }
   ],
   "source": [
    "5400 - (5400 % 10**get_last_nonzero_digit(5400))"
   ]
  },
  {
   "cell_type": "code",
   "execution_count": 54,
   "id": "7aecf53f-c23c-41be-b2db-b346d06a9566",
   "metadata": {},
   "outputs": [
    {
     "data": {
      "text/plain": [
       "4"
      ]
     },
     "execution_count": 54,
     "metadata": {},
     "output_type": "execute_result"
    }
   ],
   "source": [
    "get_last_nonzero_digit(5400)*10"
   ]
  },
  {
   "cell_type": "code",
   "execution_count": 15,
   "id": "48f1285a-f20c-4031-9cea-5a046e4af7b0",
   "metadata": {},
   "outputs": [
    {
     "data": {
      "text/plain": [
       "54321"
      ]
     },
     "execution_count": 15,
     "metadata": {},
     "output_type": "execute_result"
    }
   ],
   "source": [
    "sum(expanded)"
   ]
  },
  {
   "cell_type": "code",
   "execution_count": 8,
   "id": "91681ed1-d5d3-4d25-9b16-bc0422b43abd",
   "metadata": {},
   "outputs": [
    {
     "data": {
      "text/plain": [
       "100000"
      ]
     },
     "execution_count": 8,
     "metadata": {},
     "output_type": "execute_result"
    }
   ],
   "source": [
    "10**5"
   ]
  },
  {
   "cell_type": "code",
   "execution_count": 26,
   "id": "710ebf61-7808-4333-abd5-6b877522e325",
   "metadata": {},
   "outputs": [
    {
     "data": {
      "text/plain": [
       "'54321'"
      ]
     },
     "execution_count": 26,
     "metadata": {},
     "output_type": "execute_result"
    }
   ],
   "source": [
    "code"
   ]
  },
  {
   "cell_type": "code",
   "execution_count": 27,
   "id": "dc91fa13-dac0-40b3-bc01-0d6cf37587e0",
   "metadata": {},
   "outputs": [
    {
     "data": {
      "text/plain": [
       "'1'"
      ]
     },
     "execution_count": 27,
     "metadata": {},
     "output_type": "execute_result"
    }
   ],
   "source": [
    "code[-1]"
   ]
  },
  {
   "cell_type": "code",
   "execution_count": 36,
   "id": "3d0f14c1-fcfc-420a-88a1-e2d3bea4ed09",
   "metadata": {},
   "outputs": [
    {
     "data": {
      "text/plain": [
       "3"
      ]
     },
     "execution_count": 36,
     "metadata": {},
     "output_type": "execute_result"
    }
   ],
   "source": [
    "get_last_nonzero_digit(12300)"
   ]
  },
  {
   "cell_type": "code",
   "execution_count": 37,
   "id": "05ab9a62-509d-4425-80f0-c196a2b79014",
   "metadata": {},
   "outputs": [
    {
     "data": {
      "text/plain": [
       "5"
      ]
     },
     "execution_count": 37,
     "metadata": {},
     "output_type": "execute_result"
    }
   ],
   "source": [
    "get_last_nonzero_digit(15000)"
   ]
  },
  {
   "cell_type": "code",
   "execution_count": null,
   "id": "43ab9daf-8637-46d6-adcd-5818d0e19342",
   "metadata": {},
   "outputs": [],
   "source": [
    "'seafood',\n",
    "'mussels',\n",
    "'fish',\n",
    "'snapper',\n",
    "'meat',\n",
    " 'steak',\n",
    " 'filet mignon',\n",
    " '8oz filet mignon',\n",
    " '10oz filet mignon',\n",
    " '12oz filet mignon',\n",
    " 'chicken',\n",
    " 'drumstick',\n",
    " 'quarter'"
   ]
  },
  {
   "cell_type": "code",
   "execution_count": null,
   "id": "bcf431e3-50f4-4c13-9717-9695bcff20d9",
   "metadata": {},
   "outputs": [],
   "source": []
  }
 ],
 "metadata": {
  "kernelspec": {
   "display_name": "Python 3 (ipykernel)",
   "language": "python",
   "name": "python3"
  },
  "language_info": {
   "codemirror_mode": {
    "name": "ipython",
    "version": 3
   },
   "file_extension": ".py",
   "mimetype": "text/x-python",
   "name": "python",
   "nbconvert_exporter": "python",
   "pygments_lexer": "ipython3",
   "version": "3.8.10"
  }
 },
 "nbformat": 4,
 "nbformat_minor": 5
}
