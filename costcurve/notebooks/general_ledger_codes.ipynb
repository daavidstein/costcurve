{
 "cells": [
  {
   "cell_type": "code",
   "execution_count": 1,
   "id": "4dadcbb4-fbfc-4d12-8e31-b43177a1ce36",
   "metadata": {},
   "outputs": [],
   "source": [
    "#!pip install networkx"
   ]
  },
  {
   "cell_type": "code",
   "execution_count": 1,
   "id": "7d374047-e59b-4a05-b6c7-07a2ca53f05d",
   "metadata": {},
   "outputs": [],
   "source": [
    "import networkx as nx\n",
    "from collections import defaultdict, Counter\n",
    "from typing import List, Tuple, Set, Dict"
   ]
  },
  {
   "cell_type": "code",
   "execution_count": 74,
   "id": "e059091e-e4e5-45c0-b896-1e45635068eb",
   "metadata": {},
   "outputs": [
    {
     "data": {
      "text/plain": [
       "\"Need to be able to do the reverse as well -- go from a dict of general ledger codes to a graph representation.\\nThat part should be pretty easy. It's easy to see from a code who the ancestors are.\""
      ]
     },
     "execution_count": 74,
     "metadata": {},
     "output_type": "execute_result"
    }
   ],
   "source": [
    "\"\"\"Need to be able to do the reverse as well -- go from a dict of general ledger codes to a graph representation.\n",
    "That part should be pretty easy. It's easy to see from a code who the ancestors are.\"\"\""
   ]
  },
  {
   "cell_type": "code",
   "execution_count": 2,
   "id": "4da18670-0891-4854-8d6f-975721be9588",
   "metadata": {},
   "outputs": [],
   "source": [
    "class Inventory:\n",
    "    def __init__(self, nodes: Set[str], edges: Set[Tuple[str,str]]):\n",
    "        \n",
    "        self.validate_edges(edges)\n",
    "        self.graph = nx.DiGraph()\n",
    "        self.graph.add_nodes_from(nodes)\n",
    "        self.graph.add_edges_from(edges)\n",
    "        self.set_indices()\n",
    "        self.code_map = self.create_codes()\n",
    "\n",
    "\n",
    "    def validate_edges(self, edges: Set[Tuple[str,str]]):\n",
    "        \"\"\"\n",
    "        Check that each child has only one parent\n",
    "        \n",
    "        TODO use typechecking to enforce that each tuple is a pair of strings\n",
    "        \"\"\"\n",
    "        #Each child has only one parent implies that no node appears more than once as the second element in an edge\n",
    "        children = [edge[1] for edge in edges]\n",
    "        if len(children) != len(set(children)):\n",
    "            raise Exception(\"Some nodes have more than one parent!\")\n",
    "    \n",
    "    def set_indices(self):\n",
    "        seen = Counter()\n",
    "        indices = dict()\n",
    "        for e in self.graph.edges:\n",
    "            seen[e[0]]+=1\n",
    "            indices[e[1]] = seen[e[0]]\n",
    "\n",
    "        #set indices of root nodes\n",
    "        root_nodes = [node for node, degree in self.graph.in_degree() if degree == 0]\n",
    "        for i, rt in enumerate(root_nodes):\n",
    "            indices[rt] = i+1\n",
    "     \n",
    "        nx.set_node_attributes(self.graph, indices, \"index\")\n",
    "        \n",
    "        \n",
    "    def get_parent(self, node: str) -> str:\n",
    "        if not node in self.graph.nodes:\n",
    "            raise Exception(f\"{node} not in nodes: {list(G.nodes)}\")\n",
    "        for edge in self.graph.edges:\n",
    "            if edge[1] == node:\n",
    "                return edge[0]\n",
    "                \n",
    "    def get_ancestors(self,node, ancestors=None) -> List[str]:\n",
    "        \"\"\"Get the ancestors of a node recursively.\n",
    "        we use the convention that every node is an ancestor of itself\"\"\"\n",
    "        \n",
    "        ancestors = ancestors or [node]\n",
    "        parent = self.get_parent(node)\n",
    "        if not parent:\n",
    "            return ancestors\n",
    "        else:\n",
    "            ancestors.append(parent)\n",
    "            anc = self.get_ancestors(parent, ancestors)\n",
    "            return anc\n",
    "\n",
    "    def get_depth(self,node: str)-> int:\n",
    "        \"\"\"Get the number of ancestors of a node (including self)\"\"\"\n",
    "        return len(self.get_ancestors(node))\n",
    "        \n",
    "        \n",
    "    def get_max_depth(self):\n",
    "        return max([self.get_depth(nd) for nd in self.graph.nodes])\n",
    "        \n",
    "        \n",
    "    def get_code(self,node):\n",
    "        \"\"\"Construct the general ledger code of an item in the inventory\"\"\"\n",
    "        \n",
    "        index = nx.get_node_attributes(self.graph,\"index\")[node]\n",
    "        multiplier = 10**(self.get_max_depth()-self.get_depth(node))\n",
    "        parent = self.get_parent(node)\n",
    "        if self.get_depth(node) == 1:\n",
    "            return index*multiplier\n",
    "        else:\n",
    "            return index*multiplier + self.get_code(parent)\n",
    "\n",
    "    def create_codes(self) -> Dict[int,str]:\n",
    "        code_item = {self.get_code(nd): nd for nd in self.graph.nodes}\n",
    "        return {k: v for k,v in sorted(code_item.items())}\n",
    "\n",
    "            "
   ]
  },
  {
   "cell_type": "code",
   "execution_count": 3,
   "id": "ffed9cf5-0ac0-4681-ac0b-ef6c77490d18",
   "metadata": {},
   "outputs": [],
   "source": [
    "inv = Inventory(nodes=set(['seafood', 'meat', 'fish', 'mussels', 'steak', 'chicken', \"snapper\", \"chicken\", \"drumstick\", \"quarter\", \"filet mignon\", \"12oz\", \"10oz\", \"8oz\"]),\n",
    "               edges =set([('seafood', 'fish'), ('seafood', 'mussels'), ('meat', 'steak'), ('meat', 'chicken'), ('fish', 'snapper'), ('steak', 'filet mignon'), ('chicken', 'quarter'), ('chicken', 'drumstick'), ('filet mignon', '8oz'), ('filet mignon', '10oz'), ('filet mignon', '12oz')]))"
   ]
  },
  {
   "cell_type": "code",
   "execution_count": 4,
   "id": "031778d1-77c1-4d73-aca8-1b81b6e48d0f",
   "metadata": {},
   "outputs": [
    {
     "data": {
      "text/plain": [
       "{1000: 'seafood',\n",
       " 1100: 'mussels',\n",
       " 1200: 'fish',\n",
       " 1210: 'snapper',\n",
       " 2000: 'meat',\n",
       " 2100: 'steak',\n",
       " 2110: 'filet mignon',\n",
       " 2111: '8oz',\n",
       " 2112: '10oz',\n",
       " 2113: '12oz',\n",
       " 2200: 'chicken',\n",
       " 2210: 'drumstick',\n",
       " 2220: 'quarter'}"
      ]
     },
     "execution_count": 4,
     "metadata": {},
     "output_type": "execute_result"
    }
   ],
   "source": [
    "inv.code_map"
   ]
  },
  {
   "cell_type": "code",
   "execution_count": null,
   "id": "757a3e1d-3c5b-4dc7-8b97-50984dc5bb2f",
   "metadata": {},
   "outputs": [],
   "source": []
  }
 ],
 "metadata": {
  "kernelspec": {
   "display_name": "Python 3 (ipykernel)",
   "language": "python",
   "name": "python3"
  },
  "language_info": {
   "codemirror_mode": {
    "name": "ipython",
    "version": 3
   },
   "file_extension": ".py",
   "mimetype": "text/x-python",
   "name": "python",
   "nbconvert_exporter": "python",
   "pygments_lexer": "ipython3",
   "version": "3.8.10"
  }
 },
 "nbformat": 4,
 "nbformat_minor": 5
}
